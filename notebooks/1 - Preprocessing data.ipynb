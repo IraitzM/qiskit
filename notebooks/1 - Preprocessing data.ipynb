{
 "cells": [
  {
   "cell_type": "markdown",
   "metadata": {},
   "source": [
    "# Preprocessing\n",
    "\n",
    "We will need to preprocess obtained data so that it can be used for our purposes."
   ]
  },
  {
   "cell_type": "code",
   "execution_count": 1,
   "metadata": {},
   "outputs": [
    {
     "data": {
      "text/plain": [
       "1885"
      ]
     },
     "execution_count": 1,
     "metadata": {},
     "output_type": "execute_result"
    }
   ],
   "source": [
    "from quanvia.finance import utils\n",
    "\n",
    "asset_list = utils.get_binance_assets()\n",
    "len(asset_list)"
   ]
  },
  {
   "cell_type": "code",
   "execution_count": 2,
   "metadata": {},
   "outputs": [
    {
     "data": {
      "text/plain": [
       "['ETHBTC', 'LTCBTC', 'BNBBTC', 'NEOBTC', 'QTUMETH']"
      ]
     },
     "execution_count": 2,
     "metadata": {},
     "output_type": "execute_result"
    }
   ],
   "source": [
    "asset_list[:5]"
   ]
  },
  {
   "cell_type": "markdown",
   "metadata": {},
   "source": [
    "To many assets for a local machine, let us try with crypto to USD prices."
   ]
  },
  {
   "cell_type": "code",
   "execution_count": 3,
   "metadata": {},
   "outputs": [
    {
     "data": {
      "text/plain": [
       "377"
      ]
     },
     "execution_count": 3,
     "metadata": {},
     "output_type": "execute_result"
    }
   ],
   "source": [
    "new_asset_list = [x for x in asset_list if x.endswith(\"USDT\")]\n",
    "len(new_asset_list)"
   ]
  },
  {
   "cell_type": "code",
   "execution_count": 4,
   "metadata": {},
   "outputs": [
    {
     "data": {
      "text/plain": [
       "['BTCUSDT', 'ETHUSDT', 'BNBUSDT', 'BCCUSDT', 'NEOUSDT']"
      ]
     },
     "execution_count": 4,
     "metadata": {},
     "output_type": "execute_result"
    }
   ],
   "source": [
    "new_asset_list[:5]"
   ]
  },
  {
   "cell_type": "markdown",
   "metadata": {},
   "source": [
    "Well, I think for this trial we will just choose a fixed set:"
   ]
  },
  {
   "cell_type": "code",
   "execution_count": 5,
   "metadata": {},
   "outputs": [],
   "source": [
    "asset_list = ['BNBUSDT','BTCUSDT','ETHUSDT','SOLUSDT','ADAUSDT','XRPUSDT','DOTUSDT','DOGEUSDT']"
   ]
  },
  {
   "cell_type": "code",
   "execution_count": 6,
   "metadata": {},
   "outputs": [],
   "source": [
    "df = utils.get_binance_data(asset_list)"
   ]
  },
  {
   "cell_type": "code",
   "execution_count": 7,
   "metadata": {},
   "outputs": [
    {
     "data": {
      "text/html": [
       "<div>\n",
       "<style scoped>\n",
       "    .dataframe tbody tr th:only-of-type {\n",
       "        vertical-align: middle;\n",
       "    }\n",
       "\n",
       "    .dataframe tbody tr th {\n",
       "        vertical-align: top;\n",
       "    }\n",
       "\n",
       "    .dataframe thead th {\n",
       "        text-align: right;\n",
       "    }\n",
       "</style>\n",
       "<table border=\"1\" class=\"dataframe\">\n",
       "  <thead>\n",
       "    <tr style=\"text-align: right;\">\n",
       "      <th></th>\n",
       "      <th>Asset</th>\n",
       "      <th>Open time</th>\n",
       "      <th>Open</th>\n",
       "      <th>High</th>\n",
       "      <th>Low</th>\n",
       "      <th>Close</th>\n",
       "      <th>Volume</th>\n",
       "      <th>Closing time</th>\n",
       "      <th>Quote asset vol</th>\n",
       "      <th>Num traders</th>\n",
       "      <th>Taker buy base asset vol</th>\n",
       "      <th>Taker buy quote asset vol</th>\n",
       "      <th>To be ignored</th>\n",
       "    </tr>\n",
       "  </thead>\n",
       "  <tbody>\n",
       "    <tr>\n",
       "      <th>0</th>\n",
       "      <td>BNBUSDT</td>\n",
       "      <td>1610064000000</td>\n",
       "      <td>43.57280000</td>\n",
       "      <td>43.72200000</td>\n",
       "      <td>40.23130000</td>\n",
       "      <td>42.35600000</td>\n",
       "      <td>3548923.78800000</td>\n",
       "      <td>1610150399999</td>\n",
       "      <td>149951576.85134530</td>\n",
       "      <td>411558</td>\n",
       "      <td>1804018.63200000</td>\n",
       "      <td>76246982.43869240</td>\n",
       "      <td>0</td>\n",
       "    </tr>\n",
       "    <tr>\n",
       "      <th>1</th>\n",
       "      <td>BNBUSDT</td>\n",
       "      <td>1610150400000</td>\n",
       "      <td>42.34500000</td>\n",
       "      <td>44.05520000</td>\n",
       "      <td>41.50000000</td>\n",
       "      <td>43.84790000</td>\n",
       "      <td>2720363.63600000</td>\n",
       "      <td>1610236799999</td>\n",
       "      <td>116290473.53861750</td>\n",
       "      <td>294683</td>\n",
       "      <td>1458819.25300000</td>\n",
       "      <td>62429021.61184670</td>\n",
       "      <td>0</td>\n",
       "    </tr>\n",
       "    <tr>\n",
       "      <th>2</th>\n",
       "      <td>BNBUSDT</td>\n",
       "      <td>1610236800000</td>\n",
       "      <td>43.84790000</td>\n",
       "      <td>45.16200000</td>\n",
       "      <td>40.00000000</td>\n",
       "      <td>42.40310000</td>\n",
       "      <td>4277406.29000000</td>\n",
       "      <td>1610323199999</td>\n",
       "      <td>185165251.13206460</td>\n",
       "      <td>431771</td>\n",
       "      <td>2147084.16200000</td>\n",
       "      <td>93038871.70609660</td>\n",
       "      <td>0</td>\n",
       "    </tr>\n",
       "    <tr>\n",
       "      <th>3</th>\n",
       "      <td>BNBUSDT</td>\n",
       "      <td>1610323200000</td>\n",
       "      <td>42.40330000</td>\n",
       "      <td>42.50940000</td>\n",
       "      <td>35.03740000</td>\n",
       "      <td>38.16740000</td>\n",
       "      <td>6332801.05500000</td>\n",
       "      <td>1610409599999</td>\n",
       "      <td>243017347.96947130</td>\n",
       "      <td>664128</td>\n",
       "      <td>3174405.76900000</td>\n",
       "      <td>121735208.64152900</td>\n",
       "      <td>0</td>\n",
       "    </tr>\n",
       "    <tr>\n",
       "      <th>4</th>\n",
       "      <td>BNBUSDT</td>\n",
       "      <td>1610409600000</td>\n",
       "      <td>38.16230000</td>\n",
       "      <td>40.19890000</td>\n",
       "      <td>37.00000000</td>\n",
       "      <td>38.25410000</td>\n",
       "      <td>3261261.81000000</td>\n",
       "      <td>1610495999999</td>\n",
       "      <td>125897888.04795700</td>\n",
       "      <td>342953</td>\n",
       "      <td>1694961.86800000</td>\n",
       "      <td>65468036.38605400</td>\n",
       "      <td>0</td>\n",
       "    </tr>\n",
       "    <tr>\n",
       "      <th>...</th>\n",
       "      <td>...</td>\n",
       "      <td>...</td>\n",
       "      <td>...</td>\n",
       "      <td>...</td>\n",
       "      <td>...</td>\n",
       "      <td>...</td>\n",
       "      <td>...</td>\n",
       "      <td>...</td>\n",
       "      <td>...</td>\n",
       "      <td>...</td>\n",
       "      <td>...</td>\n",
       "      <td>...</td>\n",
       "      <td>...</td>\n",
       "    </tr>\n",
       "    <tr>\n",
       "      <th>361</th>\n",
       "      <td>DOGEUSDT</td>\n",
       "      <td>1641254400000</td>\n",
       "      <td>0.17030000</td>\n",
       "      <td>0.17260000</td>\n",
       "      <td>0.16650000</td>\n",
       "      <td>0.16840000</td>\n",
       "      <td>496439208.00000000</td>\n",
       "      <td>1641340799999</td>\n",
       "      <td>84445791.17980000</td>\n",
       "      <td>127545</td>\n",
       "      <td>258358537.00000000</td>\n",
       "      <td>43963449.95720000</td>\n",
       "      <td>0</td>\n",
       "    </tr>\n",
       "    <tr>\n",
       "      <th>362</th>\n",
       "      <td>DOGEUSDT</td>\n",
       "      <td>1641340800000</td>\n",
       "      <td>0.16850000</td>\n",
       "      <td>0.17100000</td>\n",
       "      <td>0.14720000</td>\n",
       "      <td>0.15900000</td>\n",
       "      <td>1084632258.00000000</td>\n",
       "      <td>1641427199999</td>\n",
       "      <td>175586840.15730000</td>\n",
       "      <td>307998</td>\n",
       "      <td>519468771.00000000</td>\n",
       "      <td>84347970.51660000</td>\n",
       "      <td>0</td>\n",
       "    </tr>\n",
       "    <tr>\n",
       "      <th>363</th>\n",
       "      <td>DOGEUSDT</td>\n",
       "      <td>1641427200000</td>\n",
       "      <td>0.15910000</td>\n",
       "      <td>0.16210000</td>\n",
       "      <td>0.15390000</td>\n",
       "      <td>0.15990000</td>\n",
       "      <td>705767171.00000000</td>\n",
       "      <td>1641513599999</td>\n",
       "      <td>111252225.62060000</td>\n",
       "      <td>163053</td>\n",
       "      <td>331392118.00000000</td>\n",
       "      <td>52235681.79080000</td>\n",
       "      <td>0</td>\n",
       "    </tr>\n",
       "    <tr>\n",
       "      <th>364</th>\n",
       "      <td>DOGEUSDT</td>\n",
       "      <td>1641513600000</td>\n",
       "      <td>0.16000000</td>\n",
       "      <td>0.16040000</td>\n",
       "      <td>0.14890000</td>\n",
       "      <td>0.15500000</td>\n",
       "      <td>1079690606.00000000</td>\n",
       "      <td>1641599999999</td>\n",
       "      <td>165985187.71820000</td>\n",
       "      <td>238457</td>\n",
       "      <td>524873451.00000000</td>\n",
       "      <td>80687647.18760000</td>\n",
       "      <td>0</td>\n",
       "    </tr>\n",
       "    <tr>\n",
       "      <th>365</th>\n",
       "      <td>DOGEUSDT</td>\n",
       "      <td>1641600000000</td>\n",
       "      <td>0.15510000</td>\n",
       "      <td>0.15790000</td>\n",
       "      <td>0.15480000</td>\n",
       "      <td>0.15640000</td>\n",
       "      <td>169456412.00000000</td>\n",
       "      <td>1641686399999</td>\n",
       "      <td>26532607.57790000</td>\n",
       "      <td>43624</td>\n",
       "      <td>84705248.00000000</td>\n",
       "      <td>13266049.74730000</td>\n",
       "      <td>0</td>\n",
       "    </tr>\n",
       "  </tbody>\n",
       "</table>\n",
       "<p>2928 rows × 13 columns</p>\n",
       "</div>"
      ],
      "text/plain": [
       "        Asset      Open time         Open         High          Low  \\\n",
       "0     BNBUSDT  1610064000000  43.57280000  43.72200000  40.23130000   \n",
       "1     BNBUSDT  1610150400000  42.34500000  44.05520000  41.50000000   \n",
       "2     BNBUSDT  1610236800000  43.84790000  45.16200000  40.00000000   \n",
       "3     BNBUSDT  1610323200000  42.40330000  42.50940000  35.03740000   \n",
       "4     BNBUSDT  1610409600000  38.16230000  40.19890000  37.00000000   \n",
       "..        ...            ...          ...          ...          ...   \n",
       "361  DOGEUSDT  1641254400000   0.17030000   0.17260000   0.16650000   \n",
       "362  DOGEUSDT  1641340800000   0.16850000   0.17100000   0.14720000   \n",
       "363  DOGEUSDT  1641427200000   0.15910000   0.16210000   0.15390000   \n",
       "364  DOGEUSDT  1641513600000   0.16000000   0.16040000   0.14890000   \n",
       "365  DOGEUSDT  1641600000000   0.15510000   0.15790000   0.15480000   \n",
       "\n",
       "           Close               Volume   Closing time     Quote asset vol  \\\n",
       "0    42.35600000     3548923.78800000  1610150399999  149951576.85134530   \n",
       "1    43.84790000     2720363.63600000  1610236799999  116290473.53861750   \n",
       "2    42.40310000     4277406.29000000  1610323199999  185165251.13206460   \n",
       "3    38.16740000     6332801.05500000  1610409599999  243017347.96947130   \n",
       "4    38.25410000     3261261.81000000  1610495999999  125897888.04795700   \n",
       "..           ...                  ...            ...                 ...   \n",
       "361   0.16840000   496439208.00000000  1641340799999   84445791.17980000   \n",
       "362   0.15900000  1084632258.00000000  1641427199999  175586840.15730000   \n",
       "363   0.15990000   705767171.00000000  1641513599999  111252225.62060000   \n",
       "364   0.15500000  1079690606.00000000  1641599999999  165985187.71820000   \n",
       "365   0.15640000   169456412.00000000  1641686399999   26532607.57790000   \n",
       "\n",
       "    Num traders Taker buy base asset vol Taker buy quote asset vol  \\\n",
       "0        411558         1804018.63200000         76246982.43869240   \n",
       "1        294683         1458819.25300000         62429021.61184670   \n",
       "2        431771         2147084.16200000         93038871.70609660   \n",
       "3        664128         3174405.76900000        121735208.64152900   \n",
       "4        342953         1694961.86800000         65468036.38605400   \n",
       "..          ...                      ...                       ...   \n",
       "361      127545       258358537.00000000         43963449.95720000   \n",
       "362      307998       519468771.00000000         84347970.51660000   \n",
       "363      163053       331392118.00000000         52235681.79080000   \n",
       "364      238457       524873451.00000000         80687647.18760000   \n",
       "365       43624        84705248.00000000         13266049.74730000   \n",
       "\n",
       "    To be ignored  \n",
       "0               0  \n",
       "1               0  \n",
       "2               0  \n",
       "3               0  \n",
       "4               0  \n",
       "..            ...  \n",
       "361             0  \n",
       "362             0  \n",
       "363             0  \n",
       "364             0  \n",
       "365             0  \n",
       "\n",
       "[2928 rows x 13 columns]"
      ]
     },
     "execution_count": 7,
     "metadata": {},
     "output_type": "execute_result"
    }
   ],
   "source": [
    "df"
   ]
  },
  {
   "cell_type": "markdown",
   "metadata": {},
   "source": [
    "We would like to extract the mean estimator for the return of investment between intervals (1 day ahead) so we will compute the mean of the expected return for each asset series taking the value at closing time as the reference. Equally, we would like to better understand how different assets correlate so that it helps diversify our portfolio, so the covariance between their values will also be considered in our analysis."
   ]
  },
  {
   "cell_type": "code",
   "execution_count": 8,
   "metadata": {},
   "outputs": [],
   "source": [
    "import numpy as np\n",
    "\n",
    "exp_ret = {}\n",
    "return_list = []\n",
    "for asset in asset_list:\n",
    "    open_price = np.array(df[df[\"Asset\"] == asset][\"Open\"].astype(\"float\"))\n",
    "    close_price = np.array(df[df[\"Asset\"] == asset][\"Close\"].astype(\"float\"))\n",
    "    # Sign will be used to indicate the value gradient direction\n",
    "    returns = ((close_price - open_price)/open_price)\n",
    "    exp_ret[asset] = returns.mean()\n",
    "    return_list.append(returns)\n",
    "    \n",
    "# Compute covariance between returns\n",
    "cov_mat = np.cov(np.vstack(return_list))"
   ]
  },
  {
   "cell_type": "code",
   "execution_count": 9,
   "metadata": {},
   "outputs": [
    {
     "data": {
      "text/plain": [
       "{'BNBUSDT': 0.009221480138738115,\n",
       " 'BTCUSDT': 0.0010454720329607131,\n",
       " 'ETHUSDT': 0.004171347506161309,\n",
       " 'SOLUSDT': 0.014729386544389053,\n",
       " 'ADAUSDT': 0.006050362742214893,\n",
       " 'XRPUSDT': 0.005292852018928388,\n",
       " 'DOTUSDT': 0.005569563926691609,\n",
       " 'DOGEUSDT': 0.019111877337155296}"
      ]
     },
     "execution_count": 9,
     "metadata": {},
     "output_type": "execute_result"
    }
   ],
   "source": [
    "exp_ret"
   ]
  },
  {
   "cell_type": "code",
   "execution_count": 10,
   "metadata": {},
   "outputs": [
    {
     "data": {
      "text/plain": [
       "array([[0.00608177, 0.00199172, 0.00260677, 0.00320415, 0.00271352,\n",
       "        0.00298901, 0.00330249, 0.00219796],\n",
       "       [0.00199172, 0.00174221, 0.00179836, 0.00147756, 0.00163043,\n",
       "        0.00183617, 0.00220397, 0.00267943],\n",
       "       [0.00260677, 0.00179836, 0.00300272, 0.00234359, 0.00222711,\n",
       "        0.00243351, 0.00311108, 0.00299023],\n",
       "       [0.00320415, 0.00147756, 0.00234359, 0.0069064 , 0.00232973,\n",
       "        0.0023053 , 0.00279444, 0.00227812],\n",
       "       [0.00271352, 0.00163043, 0.00222711, 0.00232973, 0.0044516 ,\n",
       "        0.00265363, 0.00321785, 0.00336979],\n",
       "       [0.00298901, 0.00183617, 0.00243351, 0.0023053 , 0.00265363,\n",
       "        0.0062716 , 0.00319   , 0.0026517 ],\n",
       "       [0.00330249, 0.00220397, 0.00311108, 0.00279444, 0.00321785,\n",
       "        0.00319   , 0.00593995, 0.00348343],\n",
       "       [0.00219796, 0.00267943, 0.00299023, 0.00227812, 0.00336979,\n",
       "        0.0026517 , 0.00348343, 0.05370026]])"
      ]
     },
     "execution_count": 10,
     "metadata": {},
     "output_type": "execute_result"
    }
   ],
   "source": [
    "cov_mat"
   ]
  },
  {
   "cell_type": "markdown",
   "metadata": {},
   "source": [
    "There we have the expected results on investing on each cryptocurrency by itself and the mutual effect when investing in more than one of them."
   ]
  }
 ],
 "metadata": {
  "interpreter": {
   "hash": "216b08a3108933cea39188c3caa3078c669c644015e81d9a2435215c8e5ee8b4"
  },
  "kernelspec": {
   "display_name": "Python 3.8.5 64-bit ('.venv': venv)",
   "language": "python",
   "name": "python3"
  },
  "language_info": {
   "codemirror_mode": {
    "name": "ipython",
    "version": 3
   },
   "file_extension": ".py",
   "mimetype": "text/x-python",
   "name": "python",
   "nbconvert_exporter": "python",
   "pygments_lexer": "ipython3",
   "version": "3.8.5"
  },
  "orig_nbformat": 4
 },
 "nbformat": 4,
 "nbformat_minor": 2
}
