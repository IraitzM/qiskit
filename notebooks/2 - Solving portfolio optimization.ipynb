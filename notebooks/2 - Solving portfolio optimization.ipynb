{
 "cells": [
  {
   "cell_type": "markdown",
   "metadata": {},
   "source": [
    "# Portfolio optimization\n",
    "\n",
    "We are now ready to work on our first portfolio optimization problem. Let us set the ground for our optimization problem.\n",
    "\n",
    "We have a number of assets $n$ to chose from with a budget $b$, smaller than $n$ of course ($n \\gt b$). This asset selection should retrieve the biggest outcome according to individual expectancies ($\\mu$) and the factor of the combination between two assets (two by two in our case) is interpreted as the risk ($\\sigma$). We must think of our solution as a binary vector $x \\in X$ of length $n$ encoding the asset selection.\n",
    "\n",
    "Thus, our optimization problem can be described as:\n",
    "$$\n",
    "\\max \\sum_i \\mu_ix_i - \\sum_i \\sum_j \\sigma_{i,j}x_ix_j \\\\\n",
    "s.t. \\sum_i x_i \\lt b\n",
    "$$\n",
    "\n",
    "This can be easilly converted to a QUBO problem (Quadratic Unconstrained Binary Optimization) by rewritting the constraints as arguments part of the cost function. But let us start simple, shall we?"
   ]
  },
  {
   "cell_type": "markdown",
   "metadata": {},
   "source": [
    "We will start witha risk free approach, only focusing on the revenew. Let us choose a set of assets to evaluate just like on previous notebooks."
   ]
  },
  {
   "cell_type": "code",
   "execution_count": 1,
   "metadata": {},
   "outputs": [
    {
     "data": {
      "text/html": [
       "<div>\n",
       "<style scoped>\n",
       "    .dataframe tbody tr th:only-of-type {\n",
       "        vertical-align: middle;\n",
       "    }\n",
       "\n",
       "    .dataframe tbody tr th {\n",
       "        vertical-align: top;\n",
       "    }\n",
       "\n",
       "    .dataframe thead th {\n",
       "        text-align: right;\n",
       "    }\n",
       "</style>\n",
       "<table border=\"1\" class=\"dataframe\">\n",
       "  <thead>\n",
       "    <tr style=\"text-align: right;\">\n",
       "      <th></th>\n",
       "      <th>Asset</th>\n",
       "      <th>Open time</th>\n",
       "      <th>Open</th>\n",
       "      <th>High</th>\n",
       "      <th>Low</th>\n",
       "      <th>Close</th>\n",
       "      <th>Volume</th>\n",
       "      <th>Closing time</th>\n",
       "      <th>Quote asset vol</th>\n",
       "      <th>Num traders</th>\n",
       "      <th>Taker buy base asset vol</th>\n",
       "      <th>Taker buy quote asset vol</th>\n",
       "      <th>To be ignored</th>\n",
       "    </tr>\n",
       "  </thead>\n",
       "  <tbody>\n",
       "    <tr>\n",
       "      <th>0</th>\n",
       "      <td>BNBUSDT</td>\n",
       "      <td>1610064000000</td>\n",
       "      <td>43.57280000</td>\n",
       "      <td>43.72200000</td>\n",
       "      <td>40.23130000</td>\n",
       "      <td>42.35600000</td>\n",
       "      <td>3548923.78800000</td>\n",
       "      <td>1610150399999</td>\n",
       "      <td>149951576.85134530</td>\n",
       "      <td>411558</td>\n",
       "      <td>1804018.63200000</td>\n",
       "      <td>76246982.43869240</td>\n",
       "      <td>0</td>\n",
       "    </tr>\n",
       "    <tr>\n",
       "      <th>1</th>\n",
       "      <td>BNBUSDT</td>\n",
       "      <td>1610150400000</td>\n",
       "      <td>42.34500000</td>\n",
       "      <td>44.05520000</td>\n",
       "      <td>41.50000000</td>\n",
       "      <td>43.84790000</td>\n",
       "      <td>2720363.63600000</td>\n",
       "      <td>1610236799999</td>\n",
       "      <td>116290473.53861750</td>\n",
       "      <td>294683</td>\n",
       "      <td>1458819.25300000</td>\n",
       "      <td>62429021.61184670</td>\n",
       "      <td>0</td>\n",
       "    </tr>\n",
       "    <tr>\n",
       "      <th>2</th>\n",
       "      <td>BNBUSDT</td>\n",
       "      <td>1610236800000</td>\n",
       "      <td>43.84790000</td>\n",
       "      <td>45.16200000</td>\n",
       "      <td>40.00000000</td>\n",
       "      <td>42.40310000</td>\n",
       "      <td>4277406.29000000</td>\n",
       "      <td>1610323199999</td>\n",
       "      <td>185165251.13206460</td>\n",
       "      <td>431771</td>\n",
       "      <td>2147084.16200000</td>\n",
       "      <td>93038871.70609660</td>\n",
       "      <td>0</td>\n",
       "    </tr>\n",
       "    <tr>\n",
       "      <th>3</th>\n",
       "      <td>BNBUSDT</td>\n",
       "      <td>1610323200000</td>\n",
       "      <td>42.40330000</td>\n",
       "      <td>42.50940000</td>\n",
       "      <td>35.03740000</td>\n",
       "      <td>38.16740000</td>\n",
       "      <td>6332801.05500000</td>\n",
       "      <td>1610409599999</td>\n",
       "      <td>243017347.96947130</td>\n",
       "      <td>664128</td>\n",
       "      <td>3174405.76900000</td>\n",
       "      <td>121735208.64152900</td>\n",
       "      <td>0</td>\n",
       "    </tr>\n",
       "    <tr>\n",
       "      <th>4</th>\n",
       "      <td>BNBUSDT</td>\n",
       "      <td>1610409600000</td>\n",
       "      <td>38.16230000</td>\n",
       "      <td>40.19890000</td>\n",
       "      <td>37.00000000</td>\n",
       "      <td>38.25410000</td>\n",
       "      <td>3261261.81000000</td>\n",
       "      <td>1610495999999</td>\n",
       "      <td>125897888.04795700</td>\n",
       "      <td>342953</td>\n",
       "      <td>1694961.86800000</td>\n",
       "      <td>65468036.38605400</td>\n",
       "      <td>0</td>\n",
       "    </tr>\n",
       "  </tbody>\n",
       "</table>\n",
       "</div>"
      ],
      "text/plain": [
       "     Asset      Open time         Open         High          Low        Close  \\\n",
       "0  BNBUSDT  1610064000000  43.57280000  43.72200000  40.23130000  42.35600000   \n",
       "1  BNBUSDT  1610150400000  42.34500000  44.05520000  41.50000000  43.84790000   \n",
       "2  BNBUSDT  1610236800000  43.84790000  45.16200000  40.00000000  42.40310000   \n",
       "3  BNBUSDT  1610323200000  42.40330000  42.50940000  35.03740000  38.16740000   \n",
       "4  BNBUSDT  1610409600000  38.16230000  40.19890000  37.00000000  38.25410000   \n",
       "\n",
       "             Volume   Closing time     Quote asset vol Num traders  \\\n",
       "0  3548923.78800000  1610150399999  149951576.85134530      411558   \n",
       "1  2720363.63600000  1610236799999  116290473.53861750      294683   \n",
       "2  4277406.29000000  1610323199999  185165251.13206460      431771   \n",
       "3  6332801.05500000  1610409599999  243017347.96947130      664128   \n",
       "4  3261261.81000000  1610495999999  125897888.04795700      342953   \n",
       "\n",
       "  Taker buy base asset vol Taker buy quote asset vol To be ignored  \n",
       "0         1804018.63200000         76246982.43869240             0  \n",
       "1         1458819.25300000         62429021.61184670             0  \n",
       "2         2147084.16200000         93038871.70609660             0  \n",
       "3         3174405.76900000        121735208.64152900             0  \n",
       "4         1694961.86800000         65468036.38605400             0  "
      ]
     },
     "execution_count": 1,
     "metadata": {},
     "output_type": "execute_result"
    }
   ],
   "source": [
    "from quanvia.finance import utils\n",
    "\n",
    "asset_list = ['BNBUSDT','BTCUSDT','ETHUSDT','SOLUSDT','ADAUSDT','XRPUSDT','DOTUSDT','DOGEUSDT']\n",
    "df = utils.get_binance_data(asset_list)\n",
    "df.head()"
   ]
  },
  {
   "cell_type": "code",
   "execution_count": 2,
   "metadata": {},
   "outputs": [],
   "source": [
    "exp_returns, sigma = utils.get_exp_cov(df)\n",
    "# Convert expected return values to a list\n",
    "mu_vals = list(exp_returns.values())"
   ]
  },
  {
   "cell_type": "markdown",
   "metadata": {},
   "source": [
    "We could just encode each solution and compute their cost..."
   ]
  },
  {
   "cell_type": "code",
   "execution_count": 3,
   "metadata": {},
   "outputs": [],
   "source": [
    "def binarize(num, length):\n",
    "    X_val = [int(x) for x in list('{0:0b}'.format(num))]\n",
    "    if len(X_val) < length:\n",
    "        zero_pad = length - len(X_val)\n",
    "        X_val = [0]*zero_pad + X_val\n",
    "    return X_val"
   ]
  },
  {
   "cell_type": "code",
   "execution_count": 5,
   "metadata": {},
   "outputs": [
    {
     "name": "stdout",
     "output_type": "stream",
     "text": [
      "Value 0.033824723338734264 for solution 0b10001\n",
      "Wall time: 2 ms\n"
     ]
    }
   ],
   "source": [
    "%%time\n",
    "\n",
    "# Set the budget\n",
    "budget = 2\n",
    "mask = len(asset_list)\n",
    "\n",
    "# Init solution holders\n",
    "max_val = 0\n",
    "max_sol = 0\n",
    "\n",
    "# Iterate\n",
    "for i in range(2**mask):\n",
    "    x_sol = binarize(i, mask)\n",
    "    # Solution must be valid\n",
    "    if sum(x_sol) <= budget:\n",
    "        val = 0\n",
    "        for j,k in enumerate(x_sol):\n",
    "            val += k*mu_vals[j]\n",
    "        \n",
    "        # Check improvement\n",
    "        if val > max_val:\n",
    "            max_val = val\n",
    "            max_sol = i        \n",
    "\n",
    "# Print solution\n",
    "print(f'Value {max_val} for solution {bin(max_sol)}')"
   ]
  },
  {
   "cell_type": "markdown",
   "metadata": {},
   "source": [
    "First and last assets seem to be the ones that will provide us bigger proffit during the day. Although this brute force method does not seem to scale well enought if we go for a larger asset list."
   ]
  },
  {
   "cell_type": "code",
   "execution_count": 6,
   "metadata": {},
   "outputs": [],
   "source": [
    "# Get first 25 elements of USDT list\n",
    "asset_list = utils.get_binance_assets()\n",
    "asset_list = [x for x in asset_list if x.endswith(\"USDT\")]\n",
    "asset_list = asset_list[:25]"
   ]
  },
  {
   "cell_type": "code",
   "execution_count": 7,
   "metadata": {},
   "outputs": [
    {
     "data": {
      "text/plain": [
       "33554432"
      ]
     },
     "execution_count": 7,
     "metadata": {},
     "output_type": "execute_result"
    }
   ],
   "source": [
    "2**len(asset_list)"
   ]
  },
  {
   "cell_type": "markdown",
   "metadata": {},
   "source": [
    "This means we would need to check for all potential combinations from 1 to 33554432!"
   ]
  },
  {
   "cell_type": "code",
   "execution_count": 8,
   "metadata": {},
   "outputs": [],
   "source": [
    "df = utils.get_binance_data(asset_list)\n",
    "mu, sigma = utils.get_exp_cov(df)\n",
    "# Convert expected return values to a list\n",
    "mu_vals = list(mu.values())"
   ]
  },
  {
   "cell_type": "code",
   "execution_count": 9,
   "metadata": {},
   "outputs": [
    {
     "name": "stdout",
     "output_type": "stream",
     "text": [
      "Value 0.01625256073117966 for solution 0b100000000000100000\n",
      "Wall time: 14.6 s\n"
     ]
    }
   ],
   "source": [
    "%%time\n",
    "\n",
    "# Set the budget\n",
    "budget = 2\n",
    "mask = len(mu)\n",
    "\n",
    "# Init solution holders\n",
    "max_val = 0\n",
    "max_sol = 0\n",
    "\n",
    "# Iterate\n",
    "for i in range(2**mask):\n",
    "    x_sol = binarize(i, mask)\n",
    "    # Solution must be valid\n",
    "    if sum(x_sol) <= budget:\n",
    "        val = 0\n",
    "        for j,k in enumerate(x_sol):\n",
    "            val += k*mu_vals[j]\n",
    "            \n",
    "        # Check improvement\n",
    "        if val > max_val:\n",
    "            max_val = val\n",
    "            max_sol = i        \n",
    "\n",
    "print(f'Value {max_val} for solution {bin(max_sol)}')"
   ]
  },
  {
   "cell_type": "markdown",
   "metadata": {},
   "source": [
    "This is where optimization techniques come handy as they allow us to find a solution (or even **the** solution) without traversing the whole solution space. CVX is a pretty well known optimization suite for convex optimization problems. Let's give it a try!"
   ]
  },
  {
   "cell_type": "code",
   "execution_count": 10,
   "metadata": {},
   "outputs": [],
   "source": [
    "import cvxpy as cp\n",
    "import numpy as np\n",
    "\n",
    "# Our solution variable\n",
    "x_val = cp.Variable(len(mu), boolean=True)\n",
    "rets = np.array(mu_vals)\n",
    "ret = rets.T@x_val\n",
    "prob = cp.Problem(cp.Maximize(ret), \n",
    "               [cp.sum(x_val) == budget, \n",
    "                x_val >= 0])"
   ]
  },
  {
   "cell_type": "code",
   "execution_count": 12,
   "metadata": {},
   "outputs": [
    {
     "name": "stdout",
     "output_type": "stream",
     "text": [
      "Wall time: 29 ms\n"
     ]
    },
    {
     "data": {
      "text/plain": [
       "0.01625256073117966"
      ]
     },
     "execution_count": 12,
     "metadata": {},
     "output_type": "execute_result"
    }
   ],
   "source": [
    "%%time\n",
    "\n",
    "prob.solve(solver=cp.GLPK_MI)"
   ]
  },
  {
   "cell_type": "code",
   "execution_count": 13,
   "metadata": {},
   "outputs": [
    {
     "data": {
      "text/plain": [
       "array([0., 0., 1., 0., 0., 0., 0., 0., 0., 0., 0., 0., 0., 0., 1., 0., 0.,\n",
       "       0., 0., 0.])"
      ]
     },
     "execution_count": 13,
     "metadata": {},
     "output_type": "execute_result"
    }
   ],
   "source": [
    "x_val.value"
   ]
  },
  {
   "cell_type": "markdown",
   "metadata": {},
   "source": [
    "Well, there is a big difference in timming for sure!"
   ]
  }
 ],
 "metadata": {
  "interpreter": {
   "hash": "216b08a3108933cea39188c3caa3078c669c644015e81d9a2435215c8e5ee8b4"
  },
  "kernelspec": {
   "display_name": "Python 3.8.5 64-bit ('.venv': venv)",
   "language": "python",
   "name": "python3"
  },
  "language_info": {
   "codemirror_mode": {
    "name": "ipython",
    "version": 3
   },
   "file_extension": ".py",
   "mimetype": "text/x-python",
   "name": "python",
   "nbconvert_exporter": "python",
   "pygments_lexer": "ipython3",
   "version": "3.8.5"
  },
  "orig_nbformat": 4
 },
 "nbformat": 4,
 "nbformat_minor": 2
}
