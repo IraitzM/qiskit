{
 "cells": [
  {
   "cell_type": "markdown",
   "id": "c6aa926b",
   "metadata": {},
   "source": [
    "# Getting data\n",
    "\n",
    "In order to obtain our data regarding crypto currencies we will use Messari's API so that it provides us with up to date information on the matter."
   ]
  },
  {
   "cell_type": "markdown",
   "id": "4276032d",
   "metadata": {},
   "source": [
    "### REST API\n",
    "\n",
    "We will request Messari.io for top assets and their market price back one year. For that we will need to first obtain the assets and then ask for their historic data."
   ]
  },
  {
   "cell_type": "code",
   "execution_count": 1,
   "id": "fe7f4ea4",
   "metadata": {},
   "outputs": [],
   "source": [
    "import requests, json\n",
    "\n",
    "url = \"https://data.messari.io/api/v1/assets?fields=id,slug,symbol,metrics/market_data/price_usd\"\n",
    "response = requests.get(url)\n",
    "assets = json.loads(response.text)['data']"
   ]
  },
  {
   "cell_type": "markdown",
   "id": "1f06ef95",
   "metadata": {},
   "source": [
    "Now that we know our assets we can request their history."
   ]
  },
  {
   "cell_type": "code",
   "execution_count": 2,
   "id": "3c6cd6a3",
   "metadata": {},
   "outputs": [],
   "source": [
    "from datetime import date\n",
    "import pandas as pd\n",
    "\n",
    "for a in assets:\n",
    "    asset = a['slug']\n",
    "    today = date.today()\n",
    "    yearago = today.replace(year = today.year -1)\n",
    "    url = f'https://data.messari.io/api/v1/assets/{asset}/metrics/price/time-series?start={yearago}&end={today}&interval=1d'\n",
    "    response = requests.get(url)\n",
    "    info = json.loads(response.text)\n",
    "    if \"data\" in info:\n",
    "        columns = info[\"data\"][\"parameters\"][\"columns\"]\n",
    "        data = info[\"data\"][\"values\"]\n",
    "        df = pd.DataFrame(data, columns=columns)\n",
    "        df[\"slug\"] = asset\n",
    "        df.to_csv(f\"../data/{today}-{asset}.csv\")"
   ]
  },
  {
   "cell_type": "code",
   "execution_count": 3,
   "id": "6c0ef6f2",
   "metadata": {},
   "outputs": [
    {
     "data": {
      "text/html": [
       "<div>\n",
       "<style scoped>\n",
       "    .dataframe tbody tr th:only-of-type {\n",
       "        vertical-align: middle;\n",
       "    }\n",
       "\n",
       "    .dataframe tbody tr th {\n",
       "        vertical-align: top;\n",
       "    }\n",
       "\n",
       "    .dataframe thead th {\n",
       "        text-align: right;\n",
       "    }\n",
       "</style>\n",
       "<table border=\"1\" class=\"dataframe\">\n",
       "  <thead>\n",
       "    <tr style=\"text-align: right;\">\n",
       "      <th></th>\n",
       "      <th>timestamp</th>\n",
       "      <th>open</th>\n",
       "      <th>high</th>\n",
       "      <th>low</th>\n",
       "      <th>close</th>\n",
       "      <th>volume</th>\n",
       "      <th>slug</th>\n",
       "    </tr>\n",
       "  </thead>\n",
       "  <tbody>\n",
       "    <tr>\n",
       "      <th>0</th>\n",
       "      <td>1609977600000</td>\n",
       "      <td>36896.930000</td>\n",
       "      <td>40360.874663</td>\n",
       "      <td>33934.066431</td>\n",
       "      <td>39310.169566</td>\n",
       "      <td>1.483733e+08</td>\n",
       "      <td>wrapped-bitcoin</td>\n",
       "    </tr>\n",
       "    <tr>\n",
       "      <th>1</th>\n",
       "      <td>1610064000000</td>\n",
       "      <td>39245.590000</td>\n",
       "      <td>42138.620000</td>\n",
       "      <td>36481.869186</td>\n",
       "      <td>40613.409135</td>\n",
       "      <td>1.755506e+08</td>\n",
       "      <td>wrapped-bitcoin</td>\n",
       "    </tr>\n",
       "    <tr>\n",
       "      <th>2</th>\n",
       "      <td>1610150400000</td>\n",
       "      <td>40683.410000</td>\n",
       "      <td>41392.940000</td>\n",
       "      <td>38783.730000</td>\n",
       "      <td>40374.328448</td>\n",
       "      <td>7.739323e+07</td>\n",
       "      <td>wrapped-bitcoin</td>\n",
       "    </tr>\n",
       "    <tr>\n",
       "      <th>3</th>\n",
       "      <td>1610236800000</td>\n",
       "      <td>40419.568319</td>\n",
       "      <td>171525.105292</td>\n",
       "      <td>35125.000000</td>\n",
       "      <td>38191.359776</td>\n",
       "      <td>1.379977e+08</td>\n",
       "      <td>wrapped-bitcoin</td>\n",
       "    </tr>\n",
       "    <tr>\n",
       "      <th>4</th>\n",
       "      <td>1610323200000</td>\n",
       "      <td>38260.470000</td>\n",
       "      <td>38315.580000</td>\n",
       "      <td>30100.703692</td>\n",
       "      <td>35422.147375</td>\n",
       "      <td>3.634866e+08</td>\n",
       "      <td>wrapped-bitcoin</td>\n",
       "    </tr>\n",
       "  </tbody>\n",
       "</table>\n",
       "</div>"
      ],
      "text/plain": [
       "       timestamp          open           high           low         close  \\\n",
       "0  1609977600000  36896.930000   40360.874663  33934.066431  39310.169566   \n",
       "1  1610064000000  39245.590000   42138.620000  36481.869186  40613.409135   \n",
       "2  1610150400000  40683.410000   41392.940000  38783.730000  40374.328448   \n",
       "3  1610236800000  40419.568319  171525.105292  35125.000000  38191.359776   \n",
       "4  1610323200000  38260.470000   38315.580000  30100.703692  35422.147375   \n",
       "\n",
       "         volume             slug  \n",
       "0  1.483733e+08  wrapped-bitcoin  \n",
       "1  1.755506e+08  wrapped-bitcoin  \n",
       "2  7.739323e+07  wrapped-bitcoin  \n",
       "3  1.379977e+08  wrapped-bitcoin  \n",
       "4  3.634866e+08  wrapped-bitcoin  "
      ]
     },
     "execution_count": 3,
     "metadata": {},
     "output_type": "execute_result"
    }
   ],
   "source": [
    "df.head()"
   ]
  },
  {
   "cell_type": "markdown",
   "id": "531ae808",
   "metadata": {},
   "source": [
    "The information contains the timestamp; open, highest, lowest and closing prices in USD and the volume of operations."
   ]
  }
 ],
 "metadata": {
  "interpreter": {
   "hash": "216b08a3108933cea39188c3caa3078c669c644015e81d9a2435215c8e5ee8b4"
  },
  "kernelspec": {
   "display_name": "qiskit-p",
   "language": "python",
   "name": "python3"
  },
  "language_info": {
   "codemirror_mode": {
    "name": "ipython",
    "version": 3
   },
   "file_extension": ".py",
   "mimetype": "text/x-python",
   "name": "python",
   "nbconvert_exporter": "python",
   "pygments_lexer": "ipython3",
   "version": "3.8.5"
  }
 },
 "nbformat": 4,
 "nbformat_minor": 5
}
