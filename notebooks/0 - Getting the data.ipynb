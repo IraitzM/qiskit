{
 "cells": [
  {
   "cell_type": "markdown",
   "id": "c6aa926b",
   "metadata": {},
   "source": [
    "# Getting data\n",
    "\n",
    "In order to obtain our data regarding crypto currencies we will use Messari's API so that it provides us with up to date information on the matter."
   ]
  },
  {
   "cell_type": "markdown",
   "id": "4276032d",
   "metadata": {},
   "source": [
    "### REST API\n",
    "\n",
    "We will request Messari.io for top assets and their market price back one year. For that we will need to first obtain the assets and then ask for their historic data."
   ]
  },
  {
   "cell_type": "code",
   "execution_count": 1,
   "id": "fe7f4ea4",
   "metadata": {},
   "outputs": [],
   "source": [
    "import requests, json\n",
    "\n",
    "url = \"https://data.messari.io/api/v1/assets?fields=id,slug,symbol,metrics/market_data/price_usd\"\n",
    "response = requests.get(url)\n",
    "assets = json.loads(response.text)['data']"
   ]
  },
  {
   "cell_type": "markdown",
   "id": "1f06ef95",
   "metadata": {},
   "source": [
    "Now that we know our assets we can request their history."
   ]
  },
  {
   "cell_type": "code",
   "execution_count": 2,
   "id": "3c6cd6a3",
   "metadata": {},
   "outputs": [],
   "source": [
    "from datetime import date\n",
    "import pandas as pd\n",
    "\n",
    "for a in assets:\n",
    "    asset = a['slug']\n",
    "    today = date.today()\n",
    "    yearago = today.replace(year = today.year -1)\n",
    "    url = f'https://data.messari.io/api/v1/assets/{asset}/metrics/price/time-series?start={yearago}&end={today}&interval=1d'\n",
    "    response = requests.get(url)\n",
    "    info = json.loads(response.text)\n",
    "    if \"data\" in info:\n",
    "        columns = info[\"data\"][\"parameters\"][\"columns\"]\n",
    "        data = info[\"data\"][\"values\"]\n",
    "        df = pd.DataFrame(data, columns=columns)\n",
    "        df[\"slug\"] = asset\n",
    "        df.to_csv(f\"../data/{today}-{asset}.csv\")"
   ]
  },
  {
   "cell_type": "code",
   "execution_count": 41,
   "id": "6c0ef6f2",
   "metadata": {},
   "outputs": [
    {
     "data": {
      "text/html": [
       "<div>\n",
       "<style scoped>\n",
       "    .dataframe tbody tr th:only-of-type {\n",
       "        vertical-align: middle;\n",
       "    }\n",
       "\n",
       "    .dataframe tbody tr th {\n",
       "        vertical-align: top;\n",
       "    }\n",
       "\n",
       "    .dataframe thead th {\n",
       "        text-align: right;\n",
       "    }\n",
       "</style>\n",
       "<table border=\"1\" class=\"dataframe\">\n",
       "  <thead>\n",
       "    <tr style=\"text-align: right;\">\n",
       "      <th></th>\n",
       "      <th>timestamp</th>\n",
       "      <th>open</th>\n",
       "      <th>high</th>\n",
       "      <th>low</th>\n",
       "      <th>close</th>\n",
       "      <th>volume</th>\n",
       "      <th>slug</th>\n",
       "    </tr>\n",
       "  </thead>\n",
       "  <tbody>\n",
       "    <tr>\n",
       "      <th>0</th>\n",
       "      <td>1609977600000</td>\n",
       "      <td>6.430649</td>\n",
       "      <td>6.831946</td>\n",
       "      <td>5.902719</td>\n",
       "      <td>6.264813</td>\n",
       "      <td>2.949064e+08</td>\n",
       "      <td>uniswap</td>\n",
       "    </tr>\n",
       "    <tr>\n",
       "      <th>1</th>\n",
       "      <td>1610064000000</td>\n",
       "      <td>6.266868</td>\n",
       "      <td>6.407123</td>\n",
       "      <td>5.447225</td>\n",
       "      <td>5.883652</td>\n",
       "      <td>2.875378e+08</td>\n",
       "      <td>uniswap</td>\n",
       "    </tr>\n",
       "    <tr>\n",
       "      <th>2</th>\n",
       "      <td>1610150400000</td>\n",
       "      <td>5.876753</td>\n",
       "      <td>6.369207</td>\n",
       "      <td>5.668347</td>\n",
       "      <td>6.248685</td>\n",
       "      <td>2.118909e+08</td>\n",
       "      <td>uniswap</td>\n",
       "    </tr>\n",
       "    <tr>\n",
       "      <th>3</th>\n",
       "      <td>1610236800000</td>\n",
       "      <td>6.276470</td>\n",
       "      <td>6.608679</td>\n",
       "      <td>5.504691</td>\n",
       "      <td>5.983117</td>\n",
       "      <td>2.599493e+08</td>\n",
       "      <td>uniswap</td>\n",
       "    </tr>\n",
       "    <tr>\n",
       "      <th>4</th>\n",
       "      <td>1610323200000</td>\n",
       "      <td>5.988630</td>\n",
       "      <td>5.999697</td>\n",
       "      <td>4.394917</td>\n",
       "      <td>5.244629</td>\n",
       "      <td>4.099609e+08</td>\n",
       "      <td>uniswap</td>\n",
       "    </tr>\n",
       "  </tbody>\n",
       "</table>\n",
       "</div>"
      ],
      "text/plain": [
       "       timestamp      open      high       low     close        volume  \\\n",
       "0  1609977600000  6.430649  6.831946  5.902719  6.264813  2.949064e+08   \n",
       "1  1610064000000  6.266868  6.407123  5.447225  5.883652  2.875378e+08   \n",
       "2  1610150400000  5.876753  6.369207  5.668347  6.248685  2.118909e+08   \n",
       "3  1610236800000  6.276470  6.608679  5.504691  5.983117  2.599493e+08   \n",
       "4  1610323200000  5.988630  5.999697  4.394917  5.244629  4.099609e+08   \n",
       "\n",
       "      slug  \n",
       "0  uniswap  \n",
       "1  uniswap  \n",
       "2  uniswap  \n",
       "3  uniswap  \n",
       "4  uniswap  "
      ]
     },
     "execution_count": 41,
     "metadata": {},
     "output_type": "execute_result"
    }
   ],
   "source": [
    "df.head()"
   ]
  },
  {
   "cell_type": "markdown",
   "id": "531ae808",
   "metadata": {},
   "source": [
    "The information contains the timestamp; open, highest, lowest and closing prices in USD and the volume of operations."
   ]
  }
 ],
 "metadata": {
  "interpreter": {
   "hash": "216b08a3108933cea39188c3caa3078c669c644015e81d9a2435215c8e5ee8b4"
  },
  "kernelspec": {
   "display_name": "qiskit-p",
   "language": "python",
   "name": "python3"
  },
  "language_info": {
   "codemirror_mode": {
    "name": "ipython",
    "version": 3
   },
   "file_extension": ".py",
   "mimetype": "text/x-python",
   "name": "python",
   "nbconvert_exporter": "python",
   "pygments_lexer": "ipython3",
   "version": "3.8.5"
  }
 },
 "nbformat": 4,
 "nbformat_minor": 5
}
