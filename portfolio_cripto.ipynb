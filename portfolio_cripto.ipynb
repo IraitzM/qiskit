{
 "cells": [
  {
   "cell_type": "code",
   "execution_count": 16,
   "id": "0320c740",
   "metadata": {},
   "outputs": [],
   "source": [
    "from qiskit import Aer\n",
    "from qiskit.algorithms import VQE, QAOA, NumPyMinimumEigensolver\n",
    "from qiskit.algorithms.optimizers import *\n",
    "from qiskit.circuit.library import TwoLocal\n",
    "from qiskit.utils import QuantumInstance\n",
    "from qiskit.utils import algorithm_globals\n",
    "from qiskit_finance import QiskitFinanceError\n",
    "from qiskit_finance.applications.optimization import PortfolioOptimization\n",
    "from qiskit_finance.data_providers import *\n",
    "from qiskit_optimization.algorithms import MinimumEigenOptimizer ,CplexOptimizer\n",
    "from qiskit_optimization.applications import OptimizationApplication\n",
    "from qiskit_optimization.converters import QuadraticProgramToQubo\n",
    "\n",
    "import pandas as pd\n",
    "import numpy as np\n",
    "import seaborn as sns\n",
    "import matplotlib.pyplot as plt\n",
    "%matplotlib inline\n",
    "from datetime import date, timedelta, datetime\n",
    "import warnings\n",
    "from sympy.utilities.exceptions import SymPyDeprecationWarning\n",
    "warnings.simplefilter(\"ignore\", SymPyDeprecationWarning)\n",
    "import mplfinance as mpl\n",
    "warnings.filterwarnings('ignore')"
   ]
  },
  {
   "cell_type": "code",
   "execution_count": 17,
   "id": "53a5aa4d",
   "metadata": {},
   "outputs": [],
   "source": [
    "#It is not neccesary\n",
    "from dotenv import load_dotenv\n",
    "load_dotenv()\n",
    "import os\n",
    "API_KEY = os.getenv(\"API_KEY\")\n",
    "API_SECRET = os.getenv(\"API_SECRET\")"
   ]
  },
  {
   "cell_type": "code",
   "execution_count": 18,
   "id": "b663fb48",
   "metadata": {},
   "outputs": [],
   "source": [
    "from binance.client import Client"
   ]
  },
  {
   "cell_type": "code",
   "execution_count": 19,
   "id": "f6455494",
   "metadata": {},
   "outputs": [],
   "source": [
    "client = Client(API_KEY,API_SECRET)"
   ]
  },
  {
   "cell_type": "code",
   "execution_count": 20,
   "id": "4aacdc64",
   "metadata": {},
   "outputs": [
    {
     "name": "stdout",
     "output_type": "stream",
     "text": [
      "{}\n"
     ]
    }
   ],
   "source": [
    "print(client.ping())"
   ]
  },
  {
   "cell_type": "code",
   "execution_count": 21,
   "id": "62ce7f0e",
   "metadata": {},
   "outputs": [],
   "source": [
    "info = pd.DataFrame(client.get_all_tickers())"
   ]
  },
  {
   "cell_type": "code",
   "execution_count": 23,
   "id": "a2b40799",
   "metadata": {},
   "outputs": [],
   "source": [
    "#assets = ['BNBUSDT','BTCUSDT','ETHUSDT','SOLUSDT','ADAUSDT','XRPUSDT','DOTUSDT','DOGEUSDT']\n",
    "assets = [symbol for symbol in info['symbol'] if 'USDT' in symbol]\n",
    "\n",
    "\n",
    "#start=\"2020.10.23\"\n",
    "days = 365\n",
    "#end = (datetime.today()-timedelta(days=1)).strftime(\"%Y.%m.%d\")\n",
    "start = (datetime.today()-timedelta(days=days)).strftime(\"%Y.%m.%d\")\n",
    "end = (datetime.today()).strftime(\"%Y.%m.%d\")\n",
    "timeframe=\"1d\""
   ]
  },
  {
   "cell_type": "code",
   "execution_count": 24,
   "id": "df8f7077",
   "metadata": {},
   "outputs": [],
   "source": [
    "df = pd.DataFrame()\n",
    "for asset in assets:\n",
    "    df_aux= pd.DataFrame(client.get_historical_klines(asset, timeframe,start,end))\n",
    "    if len(df_aux) == (days+1):\n",
    "        df_aux=df_aux.iloc[:,:6]\n",
    "        df_aux.columns=[\"Date\",\"Open\",\"High\",\"Low\",\"Close\",\"Volume\"]\n",
    "        df_aux.insert(1, \"asset\", asset, allow_duplicates=False)\n",
    "        df = df.append(df_aux)\n",
    "\n",
    "df['Date']=pd.to_datetime(df['Date'],unit=\"ms\")\n",
    "df.set_index('Date',inplace = True)\n",
    "df.iloc[:,1:6]=df.iloc[:,1:6].astype(\"float\")\n",
    "assets = df['asset'].unique()"
   ]
  },
  {
   "cell_type": "code",
   "execution_count": null,
   "id": "0ec41d3a",
   "metadata": {},
   "outputs": [],
   "source": [
    "for asset in assets:    \n",
    "    #mpl.plot(df[df['asset'] == asset], type='candle', volume=True, mav=7,title=asset)\n",
    "    mpl.plot(df[df['asset'] == asset], type='line', volume=True,title=asset)"
   ]
  },
  {
   "cell_type": "code",
   "execution_count": 25,
   "id": "32c7acf8",
   "metadata": {},
   "outputs": [],
   "source": [
    "mu = {}\n",
    "retornos = []\n",
    "retornos_x = []\n",
    "\n",
    "for asset in assets:\n",
    "    lista = np.array(df[df['asset'] == asset]['Close'])\n",
    "    retornos = (lista[1:]/lista[:-1])-1\n",
    "    mu[asset] = np.average(retornos)\n",
    "    retornos_x.append(retornos)\n",
    "    #retornos_x = retornos_x.append(retornos)\n",
    "#x = np.vstack([retornos_x[0],retornos_x[1],retornos_x[2],retornos_x[3],retornos_x[4],retornos_x[5],retornos_x[6],retornos_x[7]])\n",
    "x = np.vstack(retornos_x)\n",
    "sigma = np.cov(x)"
   ]
  },
  {
   "cell_type": "code",
   "execution_count": null,
   "id": "968d3402",
   "metadata": {},
   "outputs": [],
   "source": [
    "corr_df = pd.DataFrame(sigma).corr()\n",
    "#corr_df.columns = assets\n",
    "plt.figure(figsize=(8, 6))\n",
    "sns.heatmap(corr_df, annot=True,xticklabels=assets, yticklabels=assets)\n",
    "plt.show()"
   ]
  },
  {
   "cell_type": "code",
   "execution_count": null,
   "id": "7fc35c36",
   "metadata": {},
   "outputs": [],
   "source": [
    "plt.figure(figsize=(8, 6))\n",
    "sns.heatmap(sigma, annot=True,xticklabels=assets, yticklabels=assets)\n",
    "plt.show()"
   ]
  },
  {
   "cell_type": "code",
   "execution_count": 35,
   "id": "2edcde3f",
   "metadata": {},
   "outputs": [],
   "source": [
    "num_assets = len(assets)     \n",
    "q = 0.1                  \n",
    "budget = round(len(assets))*5       \n",
    "seed = 19900330  \n",
    "\n",
    "#portfolio = PortfolioOptimization([item for item in mu.values()],sigma,q,budget)\n",
    "portfolio = PortfolioOptimization(expected_returns=[item for item in mu.values()], covariances=sigma, risk_factor=q, budget=budget,bounds=[[0,50]]*len(assets))\n",
    "qp = portfolio.to_quadratic_program()\n",
    "\n",
    "##############################\n",
    "#print(qp)"
   ]
  },
  {
   "cell_type": "code",
   "execution_count": 37,
   "id": "671cc1ea-2740-4d7b-8737-968f30f1e7a1",
   "metadata": {},
   "outputs": [
    {
     "data": {
      "text/plain": [
       "array(['BTCUSDT', 'ETHUSDT', 'BNBUSDT', 'NEOUSDT', 'LTCUSDT', 'QTUMUSDT',\n",
       "       'ADAUSDT', 'XRPUSDT', 'EOSUSDT', 'TUSDUSDT', 'IOTAUSDT', 'XLMUSDT',\n",
       "       'ONTUSDT', 'TRXUSDT', 'ETCUSDT', 'ICXUSDT', 'NULSUSDT', 'VETUSDT',\n",
       "       'USDCUSDT', 'LINKUSDT', 'WAVESUSDT', 'BTTUSDT', 'ONGUSDT',\n",
       "       'HOTUSDT', 'ZILUSDT', 'ZRXUSDT', 'FETUSDT', 'BATUSDT', 'XMRUSDT',\n",
       "       'ZECUSDT', 'IOSTUSDT', 'CELRUSDT', 'DASHUSDT', 'NANOUSDT',\n",
       "       'OMGUSDT', 'THETAUSDT', 'ENJUSDT', 'MITHUSDT', 'MATICUSDT',\n",
       "       'ATOMUSDT', 'TFUELUSDT', 'ONEUSDT', 'FTMUSDT', 'ALGOUSDT',\n",
       "       'GTOUSDT', 'DOGEUSDT', 'DUSKUSDT', 'ANKRUSDT', 'WINUSDT',\n",
       "       'COSUSDT', 'MTLUSDT', 'TOMOUSDT', 'PERLUSDT', 'DENTUSDT',\n",
       "       'MFTUSDT', 'KEYUSDT', 'DOCKUSDT', 'WANUSDT', 'FUNUSDT', 'CVCUSDT',\n",
       "       'CHZUSDT', 'BANDUSDT', 'BUSDUSDT', 'BEAMUSDT', 'XTZUSDT',\n",
       "       'RENUSDT', 'RVNUSDT', 'HBARUSDT', 'NKNUSDT', 'STXUSDT', 'KAVAUSDT',\n",
       "       'ARPAUSDT', 'IOTXUSDT', 'RLCUSDT', 'CTXCUSDT', 'BCHUSDT',\n",
       "       'TROYUSDT', 'VITEUSDT', 'FTTUSDT', 'BUSDTRY', 'USDTTRY', 'USDTRUB',\n",
       "       'EURUSDT', 'OGNUSDT', 'TCTUSDT', 'WRXUSDT', 'BTSUSDT', 'LSKUSDT',\n",
       "       'BNTUSDT', 'LTOUSDT', 'AIONUSDT', 'MBLUSDT', 'COTIUSDT',\n",
       "       'STPTUSDT', 'WTCUSDT', 'DATAUSDT', 'SOLUSDT', 'USDTIDRT',\n",
       "       'CTSIUSDT', 'HIVEUSDT', 'CHRUSDT', 'BTCUPUSDT', 'BTCDOWNUSDT',\n",
       "       'GXSUSDT', 'ARDRUSDT', 'MDTUSDT', 'STMXUSDT', 'KNCUSDT', 'REPUSDT',\n",
       "       'LRCUSDT', 'PNTUSDT', 'USDTUAH', 'COMPUSDT', 'USDTBIDR', 'SCUSDT',\n",
       "       'ZENUSDT', 'SNXUSDT', 'ETHUPUSDT', 'ETHDOWNUSDT', 'ADAUPUSDT',\n",
       "       'ADADOWNUSDT', 'LINKUPUSDT', 'LINKDOWNUSDT', 'VTHOUSDT', 'DGBUSDT',\n",
       "       'GBPUSDT', 'SXPUSDT', 'MKRUSDT', 'DCRUSDT', 'STORJUSDT',\n",
       "       'BNBUPUSDT', 'BNBDOWNUSDT', 'XTZUPUSDT', 'XTZDOWNUSDT', 'MANAUSDT',\n",
       "       'AUDUSDT', 'YFIUSDT', 'BALUSDT', 'BLZUSDT', 'IRISUSDT', 'KMDUSDT',\n",
       "       'USDTDAI', 'JSTUSDT', 'SRMUSDT', 'ANTUSDT', 'CRVUSDT', 'SANDUSDT',\n",
       "       'OCEANUSDT', 'NMRUSDT', 'DOTUSDT', 'LUNAUSDT', 'RSRUSDT',\n",
       "       'PAXGUSDT', 'WNXMUSDT', 'TRBUSDT', 'SUSHIUSDT', 'YFIIUSDT',\n",
       "       'KSMUSDT', 'EGLDUSDT', 'DIAUSDT', 'RUNEUSDT', 'FIOUSDT', 'UMAUSDT',\n",
       "       'EOSUPUSDT', 'EOSDOWNUSDT', 'TRXUPUSDT', 'TRXDOWNUSDT',\n",
       "       'XRPUPUSDT', 'XRPDOWNUSDT', 'DOTUPUSDT', 'DOTDOWNUSDT', 'USDTNGN',\n",
       "       'BELUSDT', 'WINGUSDT', 'LTCUPUSDT', 'LTCDOWNUSDT', 'UNIUSDT',\n",
       "       'NBSUSDT', 'OXTUSDT', 'AVAXUSDT', 'HNTUSDT', 'FLMUSDT',\n",
       "       'UNIUPUSDT', 'UNIDOWNUSDT', 'ORNUSDT', 'UTKUSDT', 'XVSUSDT',\n",
       "       'ALPHAUSDT', 'USDTBRL', 'AAVEUSDT', 'NEARUSDT', 'FILUSDT',\n",
       "       'FILUPUSDT', 'FILDOWNUSDT', 'INJUSDT', 'AUDIOUSDT', 'CTKUSDT',\n",
       "       'AKROUSDT', 'AXSUSDT', 'HARDUSDT', 'DNTUSDT', 'STRAXUSDT',\n",
       "       'UNFIUSDT', 'ROSEUSDT', 'AVAUSDT', 'XEMUSDT', 'SKLUSDT',\n",
       "       'SUSDUSDT', 'GRTUSDT', 'JUVUSDT', 'PSGUSDT'], dtype=object)"
      ]
     },
     "execution_count": 37,
     "metadata": {},
     "output_type": "execute_result"
    }
   ],
   "source": [
    "assets"
   ]
  },
  {
   "cell_type": "code",
   "execution_count": 36,
   "id": "67bd5b05",
   "metadata": {},
   "outputs": [
    {
     "name": "stdout",
     "output_type": "stream",
     "text": [
      "optimal function value: -0.11334263673454165\n",
      "optimal value: [50.  5.  0.  0.  0.  0. 10.  0.  0. 50.  0.  0.  0.  0.  5.  0.  0.  0.\n",
      " 50.  0.  0.  0.  0.  0.  0.  0.  0.  0.  0.  0.  2.  0.  0.  0.  0.  0.\n",
      "  0.  0.  4.  0.  3.  0.  1.  0.  0.  2.  6.  2.  0.  0.  1.  0.  0.  0.\n",
      "  0.  0.  0.  0.  0.  0.  0.  0. 50.  0.  0.  0.  0.  0.  2.  0.  0.  0.\n",
      "  2.  0.  0.  0.  0.  0.  0. 41. 50. 50. 50.  0.  0.  0.  0.  0.  0.  0.\n",
      "  0.  0.  0.  2.  0.  0.  4. 50.  0.  6.  0.  4. 24.  0.  0.  0.  0.  0.\n",
      "  0.  1.  0. 50.  0. 50.  0.  1.  0.  0.  0.  0.  0.  0.  0.  0.  0. 50.\n",
      "  0.  0.  0.  0.  0.  0.  0.  0.  0. 50.  0.  0.  0.  0.  0. 50.  0.  0.\n",
      "  0.  0.  5.  0.  0.  0.  5.  0. 50.  0.  0.  0.  0.  0.  0.  0.  1.  0.\n",
      "  0.  0.  7.  0.  0.  0.  0.  0.  0. 43.  0.  0.  0.  0.  0.  0.  0.  0.\n",
      "  7.  0.  0.  0.  0.  0.  0.  0. 50.  0.  0. 30.  0. 22.  0.  0.  0.  0.\n",
      "  7.  0.  0.  0.  0.  0.  0.  0.  0. 50.  0.  0.  0.]\n",
      "status: SUCCESS\n",
      "CPU times: user 8min 41s, sys: 2.23 s, total: 8min 43s\n",
      "Wall time: 6min 13s\n"
     ]
    }
   ],
   "source": [
    "%%time\n",
    "#Classical Optimizer\n",
    "\n",
    "#exact_mes = NumPyMinimumEigensolver()\n",
    "#exact_eigensolver = MinimumEigenOptimizer(exact_mes)\n",
    "#result = exact_eigensolver.solve(qp)\n",
    "\n",
    "#print(result)  \n",
    "cplex_optimizer = CplexOptimizer()\n",
    "cplex_result = cplex_optimizer.solve(qp)\n",
    "\n",
    "print(cplex_result)"
   ]
  },
  {
   "cell_type": "code",
   "execution_count": null,
   "id": "adb5df8a-ebdd-4e80-8bb4-a31ad44d2fb7",
   "metadata": {},
   "outputs": [],
   "source": [
    "%%time\n",
    "###VQE###\n",
    "\n",
    "optimizer = SLSQP(maxiter=1000)  \n",
    "algorithm_globals.random_seed = 1234\n",
    "backend = Aer.get_backend('qasm_simulator')\n",
    "\n",
    "vqe = VQE(optimizer=optimizer, quantum_instance=backend)\n",
    "\n",
    "vqe_meo = MinimumEigenOptimizer(vqe)\n",
    "result = vqe_meo.solve(qp)\n",
    "\n",
    "print(result)  "
   ]
  },
  {
   "cell_type": "code",
   "execution_count": 18,
   "id": "236af501-c4cd-4dd3-b44c-48f943f1f5ae",
   "metadata": {},
   "outputs": [
    {
     "name": "stdout",
     "output_type": "stream",
     "text": [
      "optimal function value: -0.04419870462287566\n",
      "optimal value: [1. 0. 0. 1. 1. 0. 0. 1.]\n",
      "status: SUCCESS\n",
      "CPU times: user 13 s, sys: 55.8 ms, total: 13 s\n",
      "Wall time: 13 s\n"
     ]
    }
   ],
   "source": [
    "%%time\n",
    "\n",
    "##QAOA\n",
    "algorithm_globals.massive=True\n",
    "\n",
    "optimizer = SLSQP(maxiter=1000)  \n",
    "algorithm_globals.random_seed = 1234\n",
    "backend = Aer.get_backend('qasm_simulator')\n",
    "\n",
    "quantum_instance = QuantumInstance(backend=backend, seed_simulator=1234, seed_transpiler=1234)\n",
    "qaoa = QAOA(optimizer=optimizer,quantum_instance=backend)\n",
    "\n",
    "qaoa_meo = MinimumEigenOptimizer(qaoa)\n",
    "\n",
    "result = qaoa_meo.solve(qp)\n",
    "\n",
    "print(result) "
   ]
  }
 ],
 "metadata": {
  "kernelspec": {
   "display_name": "qiskit-p",
   "language": "python",
   "name": "qiskit-p"
  },
  "language_info": {
   "codemirror_mode": {
    "name": "ipython",
    "version": 3
   },
   "file_extension": ".py",
   "mimetype": "text/x-python",
   "name": "python",
   "nbconvert_exporter": "python",
   "pygments_lexer": "ipython3",
   "version": "3.7.11"
  }
 },
 "nbformat": 4,
 "nbformat_minor": 5
}
